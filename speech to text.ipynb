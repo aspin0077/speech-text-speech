{
 "cells": [
  {
   "cell_type": "code",
   "execution_count": 1,
   "metadata": {},
   "outputs": [],
   "source": [
    "import speech_recognition as sr\n",
    "import pyaudio"
   ]
  },
  {
   "cell_type": "code",
   "execution_count": 2,
   "metadata": {},
   "outputs": [
    {
     "name": "stdout",
     "output_type": "stream",
     "text": [
      "speak dude::\n",
      "what are you doing what's happening\n"
     ]
    }
   ],
   "source": [
    "r= sr.Recognizer()\n",
    "with sr.Microphone() as source:\n",
    "    print(\"speak dude::\")\n",
    "    audio = r.listen(source)\n",
    "    \n",
    "    try:\n",
    "        text= r.recognize_google(audio)\n",
    "        text='{}'.format(text)\n",
    "        print(text)\n",
    "    except:\n",
    "        print('sorry')"
   ]
  },
  {
   "cell_type": "code",
   "execution_count": 3,
   "metadata": {},
   "outputs": [],
   "source": [
    "from gtts import gTTS"
   ]
  },
  {
   "cell_type": "code",
   "execution_count": 4,
   "metadata": {},
   "outputs": [],
   "source": [
    "speech= gTTS(text,'en','slow')\n",
    "speech.save(\"hello.mp3\")"
   ]
  }
 ],
 "metadata": {
  "kernelspec": {
   "display_name": "Python 3",
   "language": "python",
   "name": "python3"
  },
  "language_info": {
   "codemirror_mode": {
    "name": "ipython",
    "version": 3
   },
   "file_extension": ".py",
   "mimetype": "text/x-python",
   "name": "python",
   "nbconvert_exporter": "python",
   "pygments_lexer": "ipython3",
   "version": "3.7.1"
  }
 },
 "nbformat": 4,
 "nbformat_minor": 2
}
